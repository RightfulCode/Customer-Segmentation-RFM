{
  "cells": [
    {
      "cell_type": "markdown",
      "metadata": {},
      "source": [
        "# Task 3: Customer Segmentation using RFM Analysis\n",
        "### Internship Project – Elevvo\n",
        "\n",
        "This project performs customer segmentation on the Online Retail dataset using **RFM (Recency, Frequency, Monetary)** analysis. \n",
        "The goal is to group customers based on purchase behavior and provide actionable insights for marketing."
      ]
    },
    {
      "cell_type": "markdown",
      "metadata": {},
      "source": [
        "## Steps:\n",
        "1. Data Loading\n",
        "2. Data Cleaning\n",
        "3. Calculating RFM Metrics\n",
        "4. Assigning RFM Scores\n",
        "5. Segmentation\n",
        "6. Visualizations\n",
        "7. Insights & Marketing Suggestions"
      ]
    },
    {
      "cell_type": "markdown",
      "id": "c35471b9",
      "metadata": {},
      "source": [
        "## Initialization"
      ]
    },
    {
      "cell_type": "code",
      "execution_count": 1,
      "metadata": {},
      "outputs": [],
      "source": [
        "import pandas as pd\n",
        "import matplotlib.pyplot as plt\n",
        "import seaborn as sns\n",
        "\n",
        "sns.set(style='whitegrid')"
      ]
    },
    {
      "cell_type": "markdown",
      "id": "5c5c7711",
      "metadata": {},
      "source": [
        "## Step 1: Data Loading"
      ]
    },
    {
      "cell_type": "code",
      "execution_count": 2,
      "metadata": {},
      "outputs": [
        {
          "data": {
            "text/html": [
              "<div>\n",
              "<style scoped>\n",
              "    .dataframe tbody tr th:only-of-type {\n",
              "        vertical-align: middle;\n",
              "    }\n",
              "\n",
              "    .dataframe tbody tr th {\n",
              "        vertical-align: top;\n",
              "    }\n",
              "\n",
              "    .dataframe thead th {\n",
              "        text-align: right;\n",
              "    }\n",
              "</style>\n",
              "<table border=\"1\" class=\"dataframe\">\n",
              "  <thead>\n",
              "    <tr style=\"text-align: right;\">\n",
              "      <th></th>\n",
              "      <th>InvoiceNo</th>\n",
              "      <th>StockCode</th>\n",
              "      <th>Description</th>\n",
              "      <th>Quantity</th>\n",
              "      <th>InvoiceDate</th>\n",
              "      <th>UnitPrice</th>\n",
              "      <th>CustomerID</th>\n",
              "      <th>Country</th>\n",
              "    </tr>\n",
              "  </thead>\n",
              "  <tbody>\n",
              "    <tr>\n",
              "      <th>0</th>\n",
              "      <td>536365</td>\n",
              "      <td>85123A</td>\n",
              "      <td>WHITE HANGING HEART T-LIGHT HOLDER</td>\n",
              "      <td>6</td>\n",
              "      <td>2010-12-01 08:26:00</td>\n",
              "      <td>2.55</td>\n",
              "      <td>17850.0</td>\n",
              "      <td>United Kingdom</td>\n",
              "    </tr>\n",
              "    <tr>\n",
              "      <th>1</th>\n",
              "      <td>536365</td>\n",
              "      <td>71053</td>\n",
              "      <td>WHITE METAL LANTERN</td>\n",
              "      <td>6</td>\n",
              "      <td>2010-12-01 08:26:00</td>\n",
              "      <td>3.39</td>\n",
              "      <td>17850.0</td>\n",
              "      <td>United Kingdom</td>\n",
              "    </tr>\n",
              "    <tr>\n",
              "      <th>2</th>\n",
              "      <td>536365</td>\n",
              "      <td>84406B</td>\n",
              "      <td>CREAM CUPID HEARTS COAT HANGER</td>\n",
              "      <td>8</td>\n",
              "      <td>2010-12-01 08:26:00</td>\n",
              "      <td>2.75</td>\n",
              "      <td>17850.0</td>\n",
              "      <td>United Kingdom</td>\n",
              "    </tr>\n",
              "    <tr>\n",
              "      <th>3</th>\n",
              "      <td>536365</td>\n",
              "      <td>84029G</td>\n",
              "      <td>KNITTED UNION FLAG HOT WATER BOTTLE</td>\n",
              "      <td>6</td>\n",
              "      <td>2010-12-01 08:26:00</td>\n",
              "      <td>3.39</td>\n",
              "      <td>17850.0</td>\n",
              "      <td>United Kingdom</td>\n",
              "    </tr>\n",
              "    <tr>\n",
              "      <th>4</th>\n",
              "      <td>536365</td>\n",
              "      <td>84029E</td>\n",
              "      <td>RED WOOLLY HOTTIE WHITE HEART.</td>\n",
              "      <td>6</td>\n",
              "      <td>2010-12-01 08:26:00</td>\n",
              "      <td>3.39</td>\n",
              "      <td>17850.0</td>\n",
              "      <td>United Kingdom</td>\n",
              "    </tr>\n",
              "  </tbody>\n",
              "</table>\n",
              "</div>"
            ],
            "text/plain": [
              "  InvoiceNo StockCode                          Description  Quantity  \\\n",
              "0    536365    85123A   WHITE HANGING HEART T-LIGHT HOLDER         6   \n",
              "1    536365     71053                  WHITE METAL LANTERN         6   \n",
              "2    536365    84406B       CREAM CUPID HEARTS COAT HANGER         8   \n",
              "3    536365    84029G  KNITTED UNION FLAG HOT WATER BOTTLE         6   \n",
              "4    536365    84029E       RED WOOLLY HOTTIE WHITE HEART.         6   \n",
              "\n",
              "          InvoiceDate  UnitPrice  CustomerID         Country  \n",
              "0 2010-12-01 08:26:00       2.55     17850.0  United Kingdom  \n",
              "1 2010-12-01 08:26:00       3.39     17850.0  United Kingdom  \n",
              "2 2010-12-01 08:26:00       2.75     17850.0  United Kingdom  \n",
              "3 2010-12-01 08:26:00       3.39     17850.0  United Kingdom  \n",
              "4 2010-12-01 08:26:00       3.39     17850.0  United Kingdom  "
            ]
          },
          "execution_count": 2,
          "metadata": {},
          "output_type": "execute_result"
        }
      ],
      "source": [
        "df = pd.read_excel('Online Retail.xlsx')\n",
        "df.head()"
      ]
    },
    {
      "cell_type": "markdown",
      "id": "1a869246",
      "metadata": {},
      "source": [
        "## Step 2: Data Cleaning"
      ]
    },
    {
      "cell_type": "code",
      "execution_count": 3,
      "metadata": {},
      "outputs": [
        {
          "name": "stdout",
          "output_type": "stream",
          "text": [
            "<class 'pandas.core.frame.DataFrame'>\n",
            "Index: 397884 entries, 0 to 541908\n",
            "Data columns (total 9 columns):\n",
            " #   Column       Non-Null Count   Dtype         \n",
            "---  ------       --------------   -----         \n",
            " 0   InvoiceNo    397884 non-null  object        \n",
            " 1   StockCode    397884 non-null  object        \n",
            " 2   Description  397884 non-null  object        \n",
            " 3   Quantity     397884 non-null  int32         \n",
            " 4   InvoiceDate  397884 non-null  datetime64[ns]\n",
            " 5   UnitPrice    397884 non-null  float32       \n",
            " 6   CustomerID   397884 non-null  int32         \n",
            " 7   Country      397884 non-null  object        \n",
            " 8   TotalPrice   397884 non-null  float32       \n",
            "dtypes: datetime64[ns](1), float32(2), int32(2), object(4)\n",
            "memory usage: 24.3+ MB\n"
          ]
        }
      ],
      "source": [
        "df = df.dropna(subset=['CustomerID'])  #drops all null customerID rows\n",
        "df = df[(df['Quantity'] > 0) & (df['UnitPrice'] > 0)]  #Keeps transactions with positive quantity and unit price\n",
        "df['InvoiceDate'] = pd.to_datetime(df['InvoiceDate']) \n",
        "df['TotalPrice'] = df['Quantity'] * df['UnitPrice']   #Creating a Column for total price\n",
        "\n",
        "#Converting datatypes to save memory\n",
        "df['CustomerID'] = df['CustomerID'].astype('int32')\n",
        "df['Quantity'] = df['Quantity'].astype('int32')\n",
        "df['UnitPrice'] = df['UnitPrice'].astype('float32')\n",
        "df['TotalPrice'] = df['TotalPrice'].astype('float32')\n",
        "df.info()"
      ]
    },
    {
      "cell_type": "markdown",
      "id": "afbd2b2c",
      "metadata": {},
      "source": [
        "## Step 3: Calculate RFM Metrics"
      ]
    },
    {
      "cell_type": "code",
      "execution_count": 4,
      "metadata": {},
      "outputs": [
        {
          "data": {
            "text/html": [
              "<div>\n",
              "<style scoped>\n",
              "    .dataframe tbody tr th:only-of-type {\n",
              "        vertical-align: middle;\n",
              "    }\n",
              "\n",
              "    .dataframe tbody tr th {\n",
              "        vertical-align: top;\n",
              "    }\n",
              "\n",
              "    .dataframe thead th {\n",
              "        text-align: right;\n",
              "    }\n",
              "</style>\n",
              "<table border=\"1\" class=\"dataframe\">\n",
              "  <thead>\n",
              "    <tr style=\"text-align: right;\">\n",
              "      <th></th>\n",
              "      <th>Recency</th>\n",
              "      <th>Frequency</th>\n",
              "      <th>Monetary</th>\n",
              "    </tr>\n",
              "    <tr>\n",
              "      <th>CustomerID</th>\n",
              "      <th></th>\n",
              "      <th></th>\n",
              "      <th></th>\n",
              "    </tr>\n",
              "  </thead>\n",
              "  <tbody>\n",
              "    <tr>\n",
              "      <th>12346</th>\n",
              "      <td>326</td>\n",
              "      <td>1</td>\n",
              "      <td>77183.601562</td>\n",
              "    </tr>\n",
              "    <tr>\n",
              "      <th>12347</th>\n",
              "      <td>2</td>\n",
              "      <td>182</td>\n",
              "      <td>4310.000000</td>\n",
              "    </tr>\n",
              "    <tr>\n",
              "      <th>12348</th>\n",
              "      <td>75</td>\n",
              "      <td>31</td>\n",
              "      <td>1797.239990</td>\n",
              "    </tr>\n",
              "    <tr>\n",
              "      <th>12349</th>\n",
              "      <td>19</td>\n",
              "      <td>73</td>\n",
              "      <td>1757.550049</td>\n",
              "    </tr>\n",
              "    <tr>\n",
              "      <th>12350</th>\n",
              "      <td>310</td>\n",
              "      <td>17</td>\n",
              "      <td>334.399994</td>\n",
              "    </tr>\n",
              "  </tbody>\n",
              "</table>\n",
              "</div>"
            ],
            "text/plain": [
              "            Recency  Frequency      Monetary\n",
              "CustomerID                                  \n",
              "12346           326          1  77183.601562\n",
              "12347             2        182   4310.000000\n",
              "12348            75         31   1797.239990\n",
              "12349            19         73   1757.550049\n",
              "12350           310         17    334.399994"
            ]
          },
          "execution_count": 4,
          "metadata": {},
          "output_type": "execute_result"
        }
      ],
      "source": [
        "snapshot_date = df['InvoiceDate'].max() + pd.Timedelta(days=1)\n",
        "\n",
        "# Recency\n",
        "last_purchase = df.groupby('CustomerID')['InvoiceDate'].max()\n",
        "recency = (snapshot_date - last_purchase).dt.days\n",
        "\n",
        "# Frequency\n",
        "frequency = df.groupby('CustomerID')['InvoiceNo'].count()\n",
        "\n",
        "# Monetary\n",
        "monetary = df.groupby('CustomerID')['TotalPrice'].sum()\n",
        "\n",
        "rfm = pd.DataFrame({'Recency': recency, 'Frequency': frequency, 'Monetary': monetary})\n",
        "rfm.head()"
      ]
    },
    {
      "cell_type": "markdown",
      "id": "d024ecc9",
      "metadata": {},
      "source": [
        "## Step 4: Assign RFM Scores"
      ]
    },
    {
      "cell_type": "code",
      "execution_count": 5,
      "metadata": {},
      "outputs": [
        {
          "data": {
            "text/html": [
              "<div>\n",
              "<style scoped>\n",
              "    .dataframe tbody tr th:only-of-type {\n",
              "        vertical-align: middle;\n",
              "    }\n",
              "\n",
              "    .dataframe tbody tr th {\n",
              "        vertical-align: top;\n",
              "    }\n",
              "\n",
              "    .dataframe thead th {\n",
              "        text-align: right;\n",
              "    }\n",
              "</style>\n",
              "<table border=\"1\" class=\"dataframe\">\n",
              "  <thead>\n",
              "    <tr style=\"text-align: right;\">\n",
              "      <th></th>\n",
              "      <th>Recency</th>\n",
              "      <th>Frequency</th>\n",
              "      <th>Monetary</th>\n",
              "      <th>R_Score</th>\n",
              "      <th>F_Score</th>\n",
              "      <th>M_Score</th>\n",
              "      <th>RFM_Segment</th>\n",
              "      <th>RFM_Score</th>\n",
              "    </tr>\n",
              "    <tr>\n",
              "      <th>CustomerID</th>\n",
              "      <th></th>\n",
              "      <th></th>\n",
              "      <th></th>\n",
              "      <th></th>\n",
              "      <th></th>\n",
              "      <th></th>\n",
              "      <th></th>\n",
              "      <th></th>\n",
              "    </tr>\n",
              "  </thead>\n",
              "  <tbody>\n",
              "    <tr>\n",
              "      <th>12346</th>\n",
              "      <td>326</td>\n",
              "      <td>1</td>\n",
              "      <td>77183.601562</td>\n",
              "      <td>1</td>\n",
              "      <td>1</td>\n",
              "      <td>4</td>\n",
              "      <td>114</td>\n",
              "      <td>6</td>\n",
              "    </tr>\n",
              "    <tr>\n",
              "      <th>12347</th>\n",
              "      <td>2</td>\n",
              "      <td>182</td>\n",
              "      <td>4310.000000</td>\n",
              "      <td>4</td>\n",
              "      <td>4</td>\n",
              "      <td>4</td>\n",
              "      <td>444</td>\n",
              "      <td>12</td>\n",
              "    </tr>\n",
              "    <tr>\n",
              "      <th>12348</th>\n",
              "      <td>75</td>\n",
              "      <td>31</td>\n",
              "      <td>1797.239990</td>\n",
              "      <td>2</td>\n",
              "      <td>2</td>\n",
              "      <td>4</td>\n",
              "      <td>224</td>\n",
              "      <td>8</td>\n",
              "    </tr>\n",
              "    <tr>\n",
              "      <th>12349</th>\n",
              "      <td>19</td>\n",
              "      <td>73</td>\n",
              "      <td>1757.550049</td>\n",
              "      <td>3</td>\n",
              "      <td>3</td>\n",
              "      <td>4</td>\n",
              "      <td>334</td>\n",
              "      <td>10</td>\n",
              "    </tr>\n",
              "    <tr>\n",
              "      <th>12350</th>\n",
              "      <td>310</td>\n",
              "      <td>17</td>\n",
              "      <td>334.399994</td>\n",
              "      <td>1</td>\n",
              "      <td>1</td>\n",
              "      <td>2</td>\n",
              "      <td>112</td>\n",
              "      <td>4</td>\n",
              "    </tr>\n",
              "  </tbody>\n",
              "</table>\n",
              "</div>"
            ],
            "text/plain": [
              "            Recency  Frequency      Monetary  R_Score  F_Score  M_Score  \\\n",
              "CustomerID                                                                \n",
              "12346           326          1  77183.601562        1        1        4   \n",
              "12347             2        182   4310.000000        4        4        4   \n",
              "12348            75         31   1797.239990        2        2        4   \n",
              "12349            19         73   1757.550049        3        3        4   \n",
              "12350           310         17    334.399994        1        1        2   \n",
              "\n",
              "           RFM_Segment  RFM_Score  \n",
              "CustomerID                         \n",
              "12346              114          6  \n",
              "12347              444         12  \n",
              "12348              224          8  \n",
              "12349              334         10  \n",
              "12350              112          4  "
            ]
          },
          "execution_count": 5,
          "metadata": {},
          "output_type": "execute_result"
        }
      ],
      "source": [
        "# Compute the 25th, 50th, and 75th percentiles for Recency, Frequency, and Monetary\n",
        "quantiles = rfm.quantile(q=[0.25, 0.5, 0.75]).to_dict()\n",
        "\n",
        "# Recency score: lower Recency (more recent purchase) gets higher score\n",
        "def r_score(x, q):\n",
        "    if x <= q['Recency'][0.25]:\n",
        "        return 4\n",
        "    elif x <= q['Recency'][0.50]:\n",
        "        return 3\n",
        "    elif x <= q['Recency'][0.75]:\n",
        "        return 2\n",
        "    else:\n",
        "        return 1\n",
        "\n",
        "# Frequency and Monetary score: higher values get higher score\n",
        "def fm_score(x, q, col):\n",
        "    if x <= q[col][0.25]:\n",
        "        return 1\n",
        "    elif x <= q[col][0.50]:\n",
        "        return 2\n",
        "    elif x <= q[col][0.75]:\n",
        "        return 3\n",
        "    else:\n",
        "        return 4\n",
        "    \n",
        "#Assigning Scores to each customer\n",
        "rfm['R_Score'] = rfm['Recency'].apply(lambda x: r_score(x, quantiles))\n",
        "rfm['F_Score'] = rfm['Frequency'].apply(lambda x: fm_score(x, quantiles, 'Frequency'))\n",
        "rfm['M_Score'] = rfm['Monetary'].apply(lambda x: fm_score(x, quantiles, 'Monetary'))\n",
        "\n",
        "rfm['RFM_Segment'] = rfm['R_Score'].map(str) + rfm['F_Score'].map(str) + rfm['M_Score'].map(str)\n",
        "rfm['RFM_Score'] = rfm[['R_Score','F_Score','M_Score']].sum(axis=1)\n",
        "rfm.head()"
      ]
    },
    {
      "cell_type": "markdown",
      "id": "ca9b5add",
      "metadata": {},
      "source": [
        "## Step 5: Segementation"
      ]
    },
    {
      "cell_type": "code",
      "execution_count": 6,
      "metadata": {},
      "outputs": [
        {
          "data": {
            "text/plain": [
              "Segment\n",
              "At Risk            1484\n",
              "Champions          1295\n",
              "Loyal Customers     864\n",
              "Others              695\n",
              "Name: count, dtype: int64"
            ]
          },
          "execution_count": 6,
          "metadata": {},
          "output_type": "execute_result"
        }
      ],
      "source": [
        "def segment_customer(rfm):\n",
        "    \"\"\"\n",
        "    Assigns a segment label to each customer based on R, F, M scores:\n",
        "    - Champions: High recency, frequency, and monetary (top customers)\n",
        "    - Loyal Customers: High frequency (regular buyers)\n",
        "    - At Risk: Low recency and frequency (customers who haven't purchased recently)\n",
        "    - Others: All remaining customers\n",
        "    \"\"\"\n",
        "    \n",
        "    if rfm['R_Score'] >= 3 and rfm['F_Score'] >= 3 and rfm['M_Score'] >= 3:\n",
        "        return 'Champions'\n",
        "    elif rfm['F_Score'] >= 3:\n",
        "        return 'Loyal Customers'\n",
        "    elif rfm['R_Score'] <= 2 and rfm['F_Score'] <= 2:\n",
        "        return 'At Risk'\n",
        "    else:\n",
        "        return 'Others'\n",
        "\n",
        "rfm['Segment'] = rfm.apply(segment_customer, axis=1)\n",
        "rfm['Segment'].value_counts()"
      ]
    },
    {
      "cell_type": "markdown",
      "id": "13c47899",
      "metadata": {},
      "source": [
        "## Step 6: Visualizations"
      ]
    },
    {
      "cell_type": "code",
      "execution_count": 7,
      "metadata": {},
      "outputs": [
        {
          "data": {
            "image/png": "[encoded data removed]",
            "text/plain": [
              "<Figure size 800x500 with 1 Axes>"
            ]
          },
          "metadata": {},
          "output_type": "display_data"
        }
      ],
      "source": [
        "# Bar chart: Customer Segments Distribution\n",
        "plt.figure(figsize=(8,5))\n",
        "sns.countplot(x='Segment', data=rfm, order=rfm['Segment'].value_counts().index)\n",
        "plt.title('Customer Segments Distribution')\n",
        "plt.xlabel('Segment')\n",
        "plt.ylabel('Number of Customers')\n",
        "plt.show()"
      ]
    },
    {
      "cell_type": "code",
      "execution_count": 8,
      "id": "1ba7e243",
      "metadata": {},
      "outputs": [
        {
          "data": {
            "image/png": "[encoded data removed]",
            "text/plain": [
              "<Figure size 800x600 with 2 Axes>"
            ]
          },
          "metadata": {},
          "output_type": "display_data"
        }
      ],
      "source": [
        "# Heatmap: Recency vs Frequency with Monetary\n",
        "rfm_pivot = rfm.groupby(['R_Score','F_Score'])['Monetary'].mean().unstack()\n",
        "plt.figure(figsize=(8,6))\n",
        "sns.heatmap(rfm_pivot, annot=True, fmt='.0f', cmap='YlGnBu')\n",
        "plt.title('Monetary Value by Recency and Frequency Score')\n",
        "plt.show()"
      ]
    },
    {
      "cell_type": "markdown",
      "metadata": {},
      "source": [
        "## Insights & Marketing Suggestions\n",
        "- **Champions**: Reward loyalty, upsell products.\n",
        "- **Loyal Customers**: Encourage repeat purchases, cross-sell.\n",
        "- **At Risk**: Re-engagement campaigns, discounts.\n",
        "- **Others**: Monitor and lightly engage."
      ]
    }
  ],
  "metadata": {
    "kernelspec": {
      "display_name": "Python (rfm_env)",
      "language": "python",
      "name": "env"
    },
    "language_info": {
      "codemirror_mode": {
        "name": "ipython",
        "version": 3
      },
      "file_extension": ".py",
      "mimetype": "text/x-python",
      "name": "python",
      "nbconvert_exporter": "python",
      "pygments_lexer": "ipython3",
      "version": "3.12.3"
    }
  },
  "nbformat": 4,
  "nbformat_minor": 5
}
